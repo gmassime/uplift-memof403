{
 "cells": [
  {
   "cell_type": "markdown",
   "source": [
    "# Uplift prediction on the Hillstrom's MineThatData E-Mail Analytics And Data Mining Challenge dataset using the CausalML package\n",
    "\n",
    "## Introduction\n",
    "\n",
    "The Hillstrom's MineThatData E-Mail Analytics And Data Mining Challenge dataset contains 64,000 customers involved in an e-mail campaign.\n",
    "The customers are randomly divided into three equal groups:\n",
    "\n",
    "* the first group receives an e-mail campaign on Mens merchandise;\n",
    "* the second group receives an e-mail campaign on Womens merchandise;\n",
    "* the third group does not receive any campaign.\n",
    "\n",
    "Since the customers receiving a treatment have the same probability of belonging to one of the three segments, the propensity score is known.\n",
    "\n",
    "In this test we consider only one e-mail campaign at a time, therefore we exclude the individuals having received the other treatment.\n",
    "This means that the propensity score of each customer is 0.5.\n",
    "\n",
    "## Meta-Learners\n",
    "\n",
    "In this first test, we use the Meta-Learners from the CausalML package. In particular, we use:\n",
    "\n",
    "* S-Learner\n",
    "* T-Learner\n",
    "* X-Learner with propensity score\n",
    "* R-Learner with propensity score"
   ],
   "metadata": {
    "collapsed": false,
    "pycharm": {
     "name": "#%% md\n"
    }
   }
  },
  {
   "cell_type": "code",
   "execution_count": 2,
   "metadata": {},
   "outputs": [],
   "source": [
    "import pandas as pd\n",
    "import numpy as np\n",
    "from matplotlib import pyplot as plt\n",
    "from sklearn.linear_model import LinearRegression\n",
    "\n",
    "from causalml.inference.meta import BaseXRegressor, BaseRRegressor, BaseSRegressor, BaseTRegressor\n",
    "from causalml.metrics import plot_gain\n",
    "\n",
    "%matplotlib inline"
   ]
  },
  {
   "cell_type": "code",
   "execution_count": 3,
   "metadata": {},
   "outputs": [],
   "source": [
    "from datasets import HillstromDataset"
   ]
  },
  {
   "cell_type": "markdown",
   "source": [
    "### Loading the data\n",
    "\n",
    "We choose which campaign to analyze by changing the *campaign* parameter of *getCampaignData*. By choosing 1, we target\n",
    "the Mens campaign, while by choosing 2 we target the Womens campaign.\n",
    "\n",
    "We define the following vectors:\n",
    "* y, the outcome\n",
    "* X, the features\n",
    "* w, the treatment indicator\n",
    "* p, the propensity score"
   ],
   "metadata": {
    "collapsed": false,
    "pycharm": {
     "name": "#%% md\n"
    }
   }
  },
  {
   "cell_type": "code",
   "execution_count": 4,
   "metadata": {},
   "outputs": [],
   "source": [
    "data = HillstromDataset()\n",
    "y, X, w = data.getCampaignData(campaign=1)\n",
    "p = np.full(shape=y.size, fill_value=0.5)"
   ]
  },
  {
   "cell_type": "markdown",
   "source": [
    "### CATE estimation\n",
    "\n",
    "We initialize our Meta-Learners using a Linear Regression model and we estimate the CATE."
   ],
   "metadata": {
    "collapsed": false,
    "pycharm": {
     "name": "#%% md\n"
    }
   }
  },
  {
   "cell_type": "code",
   "execution_count": null,
   "metadata": {},
   "outputs": [],
   "source": [
    "# S Learner\n",
    "learner_s = BaseSRegressor(learner=LinearRegression())\n",
    "cate_s = learner_s.fit_predict(X=X, treatment=w, y=y)\n",
    "\n",
    "# T Learner\n",
    "learner_t = BaseTRegressor(learner=LinearRegression())\n",
    "cate_t = learner_t.fit_predict(X=X, treatment=w, y=y)\n",
    "\n",
    "# X Learner with propensity score input\n",
    "learner_x = BaseXRegressor(learner=LinearRegression())\n",
    "cate_x = learner_x.fit_predict(X=X, treatment=w, y=y, p=p)\n",
    "\n",
    "# R Learner with propensity score input\n",
    "learner_r = BaseRRegressor(learner=LinearRegression())\n",
    "cate_r = learner_r.fit_predict(X=X, treatment=w, y=y, p=p)"
   ]
  },
  {
   "cell_type": "markdown",
   "source": [
    "### Uplift curve\n",
    "\n",
    "We plot the uplift curve by using the dedicated function from the CausalML package. We estimate the area under the curve\n",
    "to compare the different models."
   ],
   "metadata": {
    "collapsed": false,
    "pycharm": {
     "name": "#%% md\n"
    }
   }
  },
  {
   "cell_type": "code",
   "execution_count": 1,
   "metadata": {},
   "outputs": [
    {
     "ename": "NameError",
     "evalue": "name 'pd' is not defined",
     "output_type": "error",
     "traceback": [
      "\u001B[0;31m---------------------------------------------------------------------------\u001B[0m",
      "\u001B[0;31mNameError\u001B[0m                                 Traceback (most recent call last)",
      "\u001B[0;32m<ipython-input-1-1f789f880011>\u001B[0m in \u001B[0;36m<module>\u001B[0;34m\u001B[0m\n\u001B[1;32m      1\u001B[0m \u001B[0;31m# pydev_debug_cell\u001B[0m\u001B[0;34m\u001B[0m\u001B[0;34m\u001B[0m\u001B[0;34m\u001B[0m\u001B[0m\n\u001B[0;32m----> 2\u001B[0;31m df = pd.DataFrame({'y': y, 'w': treatment, 'X-Learner': cate_x.flatten(), 'S-Learner': cate_s.flatten(),\n\u001B[0m\u001B[1;32m      3\u001B[0m                    'T-Learner': cate_t.flatten()})\n\u001B[1;32m      4\u001B[0m \u001B[0mplot_gain\u001B[0m\u001B[0;34m(\u001B[0m\u001B[0mdf\u001B[0m\u001B[0;34m,\u001B[0m \u001B[0moutcome_col\u001B[0m\u001B[0;34m=\u001B[0m\u001B[0;34m'y'\u001B[0m\u001B[0;34m,\u001B[0m \u001B[0mtreatment_col\u001B[0m\u001B[0;34m=\u001B[0m\u001B[0;34m'w'\u001B[0m\u001B[0;34m)\u001B[0m\u001B[0;34m\u001B[0m\u001B[0;34m\u001B[0m\u001B[0m\n\u001B[1;32m      5\u001B[0m \u001B[0mplt\u001B[0m\u001B[0;34m.\u001B[0m\u001B[0mshow\u001B[0m\u001B[0;34m(\u001B[0m\u001B[0;34m)\u001B[0m\u001B[0;34m\u001B[0m\u001B[0;34m\u001B[0m\u001B[0m\n",
      "\u001B[0;31mNameError\u001B[0m: name 'pd' is not defined"
     ]
    }
   ],
   "source": [
    "df = pd.DataFrame({'y': y, 'w': w, 'S-Learner': cate_s.flatten(),\n",
    "                   'T-Learner': cate_t.flatten(), 'X-Learner': cate_x.flatten(), 'R-Learner': cate_r.flatten()})\n",
    "plot_gain(df, outcome_col='y', treatment_col='w')\n",
    "plt.show()"
   ]
  }
 ],
 "metadata": {
  "kernelspec": {
   "display_name": "Python 3",
   "language": "python",
   "name": "python3"
  },
  "language_info": {
   "codemirror_mode": {
    "name": "ipython",
    "version": 3
   },
   "file_extension": ".py",
   "mimetype": "text/x-python",
   "name": "python",
   "nbconvert_exporter": "python",
   "pygments_lexer": "ipython3",
   "version": "3.8.1"
  }
 },
 "nbformat": 4,
 "nbformat_minor": 4
}